{
  "nbformat": 4,
  "nbformat_minor": 0,
  "metadata": {
    "colab": {
      "provenance": [],
      "private_outputs": true,
      "gpuType": "T4",
      "collapsed_sections": [
        "iuf9pBHYpTn-"
      ],
      "include_colab_link": true
    },
    "kernelspec": {
      "display_name": "Python 3",
      "name": "python3"
    },
    "language_info": {
      "name": "python"
    },
    "accelerator": "GPU"
  },
  "cells": [
    {
      "cell_type": "markdown",
      "metadata": {
        "id": "view-in-github",
        "colab_type": "text"
      },
      "source": [
        "<a href=\"https://colab.research.google.com/github/helldoodle-dev/voice-ai/blob/main/Changer_v2.ipynb\" target=\"_parent\"><img src=\"https://colab.research.google.com/assets/colab-badge.svg\" alt=\"Open In Colab\"/></a>"
      ]
    },
    {
      "cell_type": "markdown",
      "source": [
        "#### Real-Time Voice Changer\n",
        "##### 😉\n",
        "---\n",
        "Colab by helldoodle based on the [voice-ai](https://github.com/helldoodle)"
      ],
      "metadata": {
        "id": "bUt6DBqDArXP"
      }
    },
    {
      "cell_type": "code",
      "execution_count": null,
      "metadata": {
        "id": "JnPKAWWopj4t"
      },
      "outputs": [],
      "source": [
        "# @title Копирование репозитория и установка библиотек\n",
        "import os\n",
        "import sys\n",
        "import subprocess\n",
        "from tqdm import tqdm\n",
        "from google.colab import drive\n",
        "from IPython.display import clear_output\n",
        "\n",
        "\n",
        "# @markdown ---\n",
        "#\n",
        "# @markdown Использование Google Диска может немного сократить время загрузки, и ваши модели будут сохранены, поэтому вам не придется повторно загружать их каждый раз, когда вы используете.\n",
        "\n",
        "use_drive = True # @param {type:\"boolean\"}\n",
        "\n",
        "if use_drive is True:\n",
        "    if not os.path.exists(\"/content/drive\"):\n",
        "        drive.mount('/content/drive')\n",
        "\n",
        "    os.chdir('/content/drive/MyDrive')\n",
        "\n",
        "def install(package):\n",
        "    subprocess.check_call([sys.executable, \"-m\", \"pip\", \"install\", package])\n",
        "\n",
        "def update_file(file_path, search_str, replace_str):\n",
        "    with open(file_path, 'r') as f:\n",
        "        content = f.read()\n",
        "    content = content.replace(search_str, replace_str)\n",
        "    with open(file_path, 'w') as f:\n",
        "        f.write(content)\n",
        "\n",
        "pathloc = \"/content/drive/MyDrive/voice-ai\"\n",
        "\n",
        "!git clone https://github.com/helldoodle-dev/voice-ai.git --quiet\n",
        "os.chdir(pathloc)\n",
        "\n",
        "!apt-get -y install libportaudio2 -qq\n",
        "\n",
        "update_file('./client/demo/dist/assets/gui_settings/version.txt', '-.-.-.-', 'Colab.Mod')\n",
        "#update_file('./client/demo/dist/index.js', 'inputChunkNum:48', 'inputChunkNum:192')\n",
        "\n",
        "\n",
        "with open(f'{pathloc}/requirements.txt', 'r') as file:\n",
        "    packages = file.read().splitlines()\n",
        "\n",
        "for package in tqdm(packages):\n",
        "    install(package)\n",
        "\n",
        "clear_output()\n",
        "print(f\"> Все библиотеки успешно установлены!\")"
      ]
    },
    {
      "cell_type": "code",
      "source": [
        "#@title Запуск ngrok и voice-ai сервера\n",
        "#@markdown ## <- Запуск, но перед этим:\n",
        "\n",
        "#@markdown Введите **Ваш** токен [Ngrok](https://dashboard.ngrok.com/get-started/your-authtoken):\n",
        "token = \"1sZBPtLE5JrPOMMkovSyEFgcRxQ_6mN4xN1sFCNXh8BGin6vt\" #@param {type:\"string\"}\n",
        "\n",
        "#@markdown ...\n",
        "\n",
        "#@markdown Выберите ближайший сервер к вам:\n",
        "region = \"us - United States (Ohio)\" # @param [\"ap - Asia/Pacific (Singapore)\", \"au - Australia (Sydney)\",\"eu - Europe (Frankfurt)\", \"in - India (Mumbai)\",\"jp - Japan (Tokyo)\",\"sa - South America (Sao Paulo)\", \"us - United States (Ohio)\"]\n",
        "\n",
        "#@markdown ---\n",
        "\n",
        "#@markdown *Очищать консоль?\n",
        "clear_console = True # @param {type:\"boolean\"}\n",
        "\n",
        "#@markdown *Проиграть звук?\n",
        "play_notification = True # @param {type:\"boolean\"}\n",
        "\n",
        "\n",
        "os.chdir(pathloc)\n",
        "\n",
        "from pyngrok import conf, ngrok\n",
        "MyConfig = conf.PyngrokConfig()\n",
        "MyConfig.auth_token = token\n",
        "MyConfig.region = region[0:2]\n",
        "conf.set_default(MyConfig);\n",
        "\n",
        "import subprocess, threading, time, socket, urllib.request\n",
        "PORT = 8000\n",
        "\n",
        "from pyngrok import ngrok\n",
        "ngrokConnection = ngrok.connect(PORT)\n",
        "public_url = ngrokConnection.public_url\n",
        "\n",
        "from IPython.display import clear_output\n",
        "from IPython.display import Audio, display\n",
        "def play_notification_sound():\n",
        "    display(Audio(url='https://aternos.org/panel/sound/start.mp3', autoplay=True))\n",
        "\n",
        "def wait_for_server():\n",
        "    while True:\n",
        "        time.sleep(0.5)\n",
        "        sock = socket.socket(socket.AF_INET, socket.SOCK_STREAM)\n",
        "        result = sock.connect_ex(('127.0.0.1', PORT))\n",
        "        if result == 0:\n",
        "            break\n",
        "        sock.close()\n",
        "\n",
        "    if clear_console:\n",
        "        clear_output()\n",
        "    print(\"--------- SERVER READY! ---------\")\n",
        "    print(\"Your server is available at:\")\n",
        "    print(public_url)\n",
        "    print(\"---------------------------------\")\n",
        "    if play_notification is True:\n",
        "        play_notification_sound()\n",
        "\n",
        "threading.Thread(target=wait_for_server, daemon=True).start()\n",
        "\n",
        "!python3 MMVCServerSIO.py \\\n",
        "  -p {PORT} \\\n",
        "  --https False \\\n",
        "  --content_vec_500 pretrain/checkpoint_best_legacy_500.pt \\\n",
        "  --content_vec_500_onnx pretrain/content_vec_500.onnx \\\n",
        "  --content_vec_500_onnx_on true \\\n",
        "  --hubert_base pretrain/hubert_base.pt \\\n",
        "  --hubert_base_jp pretrain/rinna_hubert_base_jp.pt \\\n",
        "  --hubert_soft pretrain/hubert/hubert-soft-0d54a1f4.pt \\\n",
        "  --nsf_hifigan pretrain/nsf_hifigan/model \\\n",
        "  --crepe_onnx_full pretrain/crepe_onnx_full.onnx \\\n",
        "  --crepe_onnx_tiny pretrain/crepe_onnx_tiny.onnx \\\n",
        "  --rmvpe pretrain/rmvpe.pt \\\n",
        "  --model_dir model_dir \\\n",
        "  --samples samples.json\n",
        "\n",
        "ngrok.disconnect(ngrokConnection.public_url)"
      ],
      "metadata": {
        "id": "86wTFmqsNMnD",
        "_kg_hide-output": false,
        "execution": {
          "iopub.status.busy": "2023-09-14T04:01:17.308284Z",
          "iopub.execute_input": "2023-09-14T04:01:17.308682Z",
          "iopub.status.idle": "2023-09-14T04:08:08.475375Z",
          "shell.execute_reply.started": "2023-09-14T04:01:17.308652Z",
          "shell.execute_reply": "2023-09-14T04:08:08.473827Z"
        },
        "trusted": true,
        "cellView": "form"
      },
      "execution_count": null,
      "outputs": []
    }
  ]
}
